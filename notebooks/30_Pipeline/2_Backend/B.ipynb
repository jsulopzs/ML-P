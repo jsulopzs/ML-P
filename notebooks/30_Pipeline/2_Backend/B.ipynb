{
 "cells": [
  {
   "cell_type": "markdown",
   "id": "827542c3",
   "metadata": {
    "papermill": {
     "duration": 0.001496,
     "end_time": "2024-06-05T07:50:08.544736",
     "exception": false,
     "start_time": "2024-06-05T07:50:08.543240",
     "status": "completed"
    },
    "tags": []
   },
   "source": [
    "# Portable models to calculate predictions anywhere"
   ]
  },
  {
   "cell_type": "markdown",
   "id": "2789431f",
   "metadata": {
    "papermill": {
     "duration": 0.001123,
     "end_time": "2024-06-05T07:50:08.547122",
     "exception": false,
     "start_time": "2024-06-05T07:50:08.545999",
     "status": "completed"
    },
    "tags": []
   },
   "source": [
    "## Input data to predict"
   ]
  },
  {
   "cell_type": "code",
   "execution_count": 1,
   "id": "c815c7b4",
   "metadata": {
    "execution": {
     "iopub.execute_input": "2024-06-05T07:50:08.549578Z",
     "iopub.status.busy": "2024-06-05T07:50:08.549434Z",
     "iopub.status.idle": "2024-06-05T07:50:08.551841Z",
     "shell.execute_reply": "2024-06-05T07:50:08.551624Z"
    },
    "papermill": {
     "duration": 0.004686,
     "end_time": "2024-06-05T07:50:08.552661",
     "exception": false,
     "start_time": "2024-06-05T07:50:08.547975",
     "status": "completed"
    },
    "tags": []
   },
   "outputs": [],
   "source": [
    "form_data = {\n",
    "    'Industry': 'Materials',\n",
    "    'Ethnicity': 'White',\n",
    "    'Gender': 'Female',\n",
    "    'Age': 18,\n",
    "    'CivilStatus': 'Married',\n",
    "    'YearsEmployed': 10,\n",
    "    'Income': 540\n",
    "}"
   ]
  },
  {
   "cell_type": "code",
   "execution_count": 2,
   "id": "032eda6b",
   "metadata": {
    "execution": {
     "iopub.execute_input": "2024-06-05T07:50:08.554715Z",
     "iopub.status.busy": "2024-06-05T07:50:08.554610Z",
     "iopub.status.idle": "2024-06-05T07:50:08.559863Z",
     "shell.execute_reply": "2024-06-05T07:50:08.559652Z"
    },
    "papermill": {
     "duration": 0.007052,
     "end_time": "2024-06-05T07:50:08.560575",
     "exception": false,
     "start_time": "2024-06-05T07:50:08.553523",
     "status": "completed"
    },
    "tags": []
   },
   "outputs": [
    {
     "data": {
      "text/html": [
       "<div>\n",
       "<style scoped>\n",
       "    .dataframe tbody tr th:only-of-type {\n",
       "        vertical-align: middle;\n",
       "    }\n",
       "\n",
       "    .dataframe tbody tr th {\n",
       "        vertical-align: top;\n",
       "    }\n",
       "\n",
       "    .dataframe thead th {\n",
       "        text-align: right;\n",
       "    }\n",
       "</style>\n",
       "<table border=\"1\" class=\"dataframe\">\n",
       "  <thead>\n",
       "    <tr style=\"text-align: right;\">\n",
       "      <th></th>\n",
       "      <th>Industry</th>\n",
       "      <th>Ethnicity</th>\n",
       "      <th>Gender</th>\n",
       "      <th>Age</th>\n",
       "      <th>CivilStatus</th>\n",
       "      <th>YearsEmployed</th>\n",
       "      <th>Income</th>\n",
       "    </tr>\n",
       "  </thead>\n",
       "  <tbody>\n",
       "    <tr>\n",
       "      <th>Alice</th>\n",
       "      <td>Materials</td>\n",
       "      <td>White</td>\n",
       "      <td>Female</td>\n",
       "      <td>18</td>\n",
       "      <td>Married</td>\n",
       "      <td>10</td>\n",
       "      <td>540</td>\n",
       "    </tr>\n",
       "  </tbody>\n",
       "</table>\n",
       "</div>"
      ],
      "text/plain": [
       "        Industry Ethnicity  Gender  Age CivilStatus  YearsEmployed  Income\n",
       "Alice  Materials     White  Female   18     Married             10     540"
      ]
     },
     "execution_count": 2,
     "metadata": {},
     "output_type": "execute_result"
    }
   ],
   "source": [
    "import pandas as pd\n",
    "\n",
    "name = 'Alice'\n",
    "df_input = pd.DataFrame(form_data, index=[name])\n",
    "df_input"
   ]
  },
  {
   "cell_type": "markdown",
   "id": "6e158b81",
   "metadata": {
    "papermill": {
     "duration": 0.000768,
     "end_time": "2024-06-05T07:50:08.562252",
     "exception": false,
     "start_time": "2024-06-05T07:50:08.561484",
     "status": "completed"
    },
    "tags": []
   },
   "source": [
    "## Load model from previous lesson"
   ]
  },
  {
   "cell_type": "code",
   "execution_count": 3,
   "id": "caae07e1",
   "metadata": {
    "execution": {
     "iopub.execute_input": "2024-06-05T07:50:08.564251Z",
     "iopub.status.busy": "2024-06-05T07:50:08.564068Z",
     "iopub.status.idle": "2024-06-05T07:50:08.885011Z",
     "shell.execute_reply": "2024-06-05T07:50:08.884615Z"
    },
    "papermill": {
     "duration": 0.323026,
     "end_time": "2024-06-05T07:50:08.885971",
     "exception": false,
     "start_time": "2024-06-05T07:50:08.562945",
     "status": "completed"
    },
    "tags": []
   },
   "outputs": [],
   "source": [
    "import pickle\n",
    "\n",
    "path = '../artifacts/pipeline.pkl'\n",
    "\n",
    "with open(path, 'rb') as file:\n",
    "    pipeline = pickle.load(file)"
   ]
  },
  {
   "cell_type": "markdown",
   "id": "188b5fa7",
   "metadata": {
    "papermill": {
     "duration": 0.001095,
     "end_time": "2024-06-05T07:50:08.888381",
     "exception": false,
     "start_time": "2024-06-05T07:50:08.887286",
     "status": "completed"
    },
    "tags": []
   },
   "source": [
    "## Calculate the prediction"
   ]
  },
  {
   "cell_type": "code",
   "execution_count": 4,
   "id": "bd884953",
   "metadata": {
    "execution": {
     "iopub.execute_input": "2024-06-05T07:50:08.899452Z",
     "iopub.status.busy": "2024-06-05T07:50:08.899342Z",
     "iopub.status.idle": "2024-06-05T07:50:08.903612Z",
     "shell.execute_reply": "2024-06-05T07:50:08.903395Z"
    },
    "papermill": {
     "duration": 0.006405,
     "end_time": "2024-06-05T07:50:08.904342",
     "exception": false,
     "start_time": "2024-06-05T07:50:08.897937",
     "status": "completed"
    },
    "tags": []
   },
   "outputs": [
    {
     "data": {
      "text/plain": [
       "array([[0.38786536, 0.61213464]])"
      ]
     },
     "execution_count": 4,
     "metadata": {},
     "output_type": "execute_result"
    }
   ],
   "source": [
    "probs = pipeline.predict_proba(df_input)\n",
    "probs"
   ]
  },
  {
   "cell_type": "code",
   "execution_count": 5,
   "id": "c07624f5",
   "metadata": {
    "execution": {
     "iopub.execute_input": "2024-06-05T07:50:08.907124Z",
     "iopub.status.busy": "2024-06-05T07:50:08.907033Z",
     "iopub.status.idle": "2024-06-05T07:50:08.908955Z",
     "shell.execute_reply": "2024-06-05T07:50:08.908766Z"
    },
    "papermill": {
     "duration": 0.003738,
     "end_time": "2024-06-05T07:50:08.909590",
     "exception": false,
     "start_time": "2024-06-05T07:50:08.905852",
     "status": "completed"
    },
    "tags": []
   },
   "outputs": [
    {
     "data": {
      "text/plain": [
       "0.6121346411706164"
      ]
     },
     "execution_count": 5,
     "metadata": {},
     "output_type": "execute_result"
    }
   ],
   "source": [
    "prob = probs[0][1]\n",
    "prob"
   ]
  }
 ],
 "metadata": {
  "kernelspec": {
   "display_name": "work",
   "language": "python",
   "name": "python3"
  },
  "language_info": {
   "codemirror_mode": {
    "name": "ipython",
    "version": 3
   },
   "file_extension": ".py",
   "mimetype": "text/x-python",
   "name": "python",
   "nbconvert_exporter": "python",
   "pygments_lexer": "ipython3",
   "version": "3.11.4"
  },
  "papermill": {
   "default_parameters": {},
   "duration": 1.376298,
   "end_time": "2024-06-05T07:50:09.126579",
   "environment_variables": {},
   "exception": null,
   "input_path": "/Users/sota/Library/CloudStorage/Dropbox/2 Business/1 Datons/2 Areas/Courses/2 Catalogue/20 ML/1 Materials/ML-P/notebooks/30_Pipeline/2_Backend/B.ipynb",
   "output_path": "/Users/sota/Library/CloudStorage/Dropbox/2 Business/1 Datons/2 Areas/Courses/2 Catalogue/20 ML/1 Materials/ML-P/notebooks/30_Pipeline/2_Backend/B.ipynb",
   "parameters": {},
   "start_time": "2024-06-05T07:50:07.750281",
   "version": "2.5.0"
  }
 },
 "nbformat": 4,
 "nbformat_minor": 5
}
