{
 "cells": [
  {
   "attachments": {},
   "cell_type": "markdown",
   "id": "5134d1cc",
   "metadata": {
    "papermill": {
     "duration": 0.002408,
     "end_time": "2024-06-05T07:53:04.776880",
     "exception": false,
     "start_time": "2024-06-05T07:53:04.774472",
     "status": "completed"
    },
    "tags": []
   },
   "source": [
    "# Simulate app form prediction process"
   ]
  },
  {
   "attachments": {},
   "cell_type": "markdown",
   "id": "380ecbe3",
   "metadata": {
    "papermill": {
     "duration": 0.001905,
     "end_time": "2024-06-05T07:53:04.781094",
     "exception": false,
     "start_time": "2024-06-05T07:53:04.779189",
     "status": "completed"
    },
    "tags": []
   },
   "source": [
    "## Load pipeline artifact"
   ]
  },
  {
   "cell_type": "code",
   "execution_count": 1,
   "id": "05af2f5a",
   "metadata": {
    "execution": {
     "iopub.execute_input": "2024-06-05T07:53:04.785059Z",
     "iopub.status.busy": "2024-06-05T07:53:04.784896Z",
     "iopub.status.idle": "2024-06-05T07:53:05.112345Z",
     "shell.execute_reply": "2024-06-05T07:53:05.112001Z"
    },
    "papermill": {
     "duration": 0.33052,
     "end_time": "2024-06-05T07:53:05.113298",
     "exception": false,
     "start_time": "2024-06-05T07:53:04.782778",
     "status": "completed"
    },
    "tags": []
   },
   "outputs": [],
   "source": [
    "import pickle\n",
    "\n",
    "path = '../artifacts/pipeline.pkl'\n",
    "\n",
    "with open(path, 'rb') as file:\n",
    "    pipeline = pickle.load(file)"
   ]
  },
  {
   "cell_type": "code",
   "execution_count": 2,
   "id": "631c2db9",
   "metadata": {
    "execution": {
     "iopub.execute_input": "2024-06-05T07:53:05.116738Z",
     "iopub.status.busy": "2024-06-05T07:53:05.116566Z",
     "iopub.status.idle": "2024-06-05T07:53:05.119675Z",
     "shell.execute_reply": "2024-06-05T07:53:05.119473Z"
    },
    "papermill": {
     "duration": 0.005607,
     "end_time": "2024-06-05T07:53:05.120428",
     "exception": false,
     "start_time": "2024-06-05T07:53:05.114821",
     "status": "completed"
    },
    "tags": []
   },
   "outputs": [
    {
     "data": {
      "text/plain": [
       "array(['Industry', 'Ethnicity', 'Gender', 'Age', 'CivilStatus',\n",
       "       'YearsEmployed', 'Income'], dtype=object)"
      ]
     },
     "execution_count": 2,
     "metadata": {},
     "output_type": "execute_result"
    }
   ],
   "source": [
    "pipeline.feature_names_in_"
   ]
  },
  {
   "attachments": {},
   "cell_type": "markdown",
   "id": "1bc662fe",
   "metadata": {
    "papermill": {
     "duration": 0.001101,
     "end_time": "2024-06-05T07:53:05.122724",
     "exception": false,
     "start_time": "2024-06-05T07:53:05.121623",
     "status": "completed"
    },
    "tags": []
   },
   "source": [
    "## Estructure categorical data options"
   ]
  },
  {
   "cell_type": "markdown",
   "id": "dbd41fce",
   "metadata": {
    "papermill": {
     "duration": 0.001166,
     "end_time": "2024-06-05T07:53:05.125025",
     "exception": false,
     "start_time": "2024-06-05T07:53:05.123859",
     "status": "completed"
    },
    "tags": []
   },
   "source": [
    "### Feature names and categories"
   ]
  },
  {
   "cell_type": "code",
   "execution_count": 3,
   "id": "29f007fb",
   "metadata": {},
   "outputs": [
    {
     "data": {
      "text/html": [
       "<style>#sk-container-id-1 {\n",
       "  /* Definition of color scheme common for light and dark mode */\n",
       "  --sklearn-color-text: black;\n",
       "  --sklearn-color-line: gray;\n",
       "  /* Definition of color scheme for unfitted estimators */\n",
       "  --sklearn-color-unfitted-level-0: #fff5e6;\n",
       "  --sklearn-color-unfitted-level-1: #f6e4d2;\n",
       "  --sklearn-color-unfitted-level-2: #ffe0b3;\n",
       "  --sklearn-color-unfitted-level-3: chocolate;\n",
       "  /* Definition of color scheme for fitted estimators */\n",
       "  --sklearn-color-fitted-level-0: #f0f8ff;\n",
       "  --sklearn-color-fitted-level-1: #d4ebff;\n",
       "  --sklearn-color-fitted-level-2: #b3dbfd;\n",
       "  --sklearn-color-fitted-level-3: cornflowerblue;\n",
       "\n",
       "  /* Specific color for light theme */\n",
       "  --sklearn-color-text-on-default-background: var(--sg-text-color, var(--theme-code-foreground, var(--jp-content-font-color1, black)));\n",
       "  --sklearn-color-background: var(--sg-background-color, var(--theme-background, var(--jp-layout-color0, white)));\n",
       "  --sklearn-color-border-box: var(--sg-text-color, var(--theme-code-foreground, var(--jp-content-font-color1, black)));\n",
       "  --sklearn-color-icon: #696969;\n",
       "\n",
       "  @media (prefers-color-scheme: dark) {\n",
       "    /* Redefinition of color scheme for dark theme */\n",
       "    --sklearn-color-text-on-default-background: var(--sg-text-color, var(--theme-code-foreground, var(--jp-content-font-color1, white)));\n",
       "    --sklearn-color-background: var(--sg-background-color, var(--theme-background, var(--jp-layout-color0, #111)));\n",
       "    --sklearn-color-border-box: var(--sg-text-color, var(--theme-code-foreground, var(--jp-content-font-color1, white)));\n",
       "    --sklearn-color-icon: #878787;\n",
       "  }\n",
       "}\n",
       "\n",
       "#sk-container-id-1 {\n",
       "  color: var(--sklearn-color-text);\n",
       "}\n",
       "\n",
       "#sk-container-id-1 pre {\n",
       "  padding: 0;\n",
       "}\n",
       "\n",
       "#sk-container-id-1 input.sk-hidden--visually {\n",
       "  border: 0;\n",
       "  clip: rect(1px 1px 1px 1px);\n",
       "  clip: rect(1px, 1px, 1px, 1px);\n",
       "  height: 1px;\n",
       "  margin: -1px;\n",
       "  overflow: hidden;\n",
       "  padding: 0;\n",
       "  position: absolute;\n",
       "  width: 1px;\n",
       "}\n",
       "\n",
       "#sk-container-id-1 div.sk-dashed-wrapped {\n",
       "  border: 1px dashed var(--sklearn-color-line);\n",
       "  margin: 0 0.4em 0.5em 0.4em;\n",
       "  box-sizing: border-box;\n",
       "  padding-bottom: 0.4em;\n",
       "  background-color: var(--sklearn-color-background);\n",
       "}\n",
       "\n",
       "#sk-container-id-1 div.sk-container {\n",
       "  /* jupyter's `normalize.less` sets `[hidden] { display: none; }`\n",
       "     but bootstrap.min.css set `[hidden] { display: none !important; }`\n",
       "     so we also need the `!important` here to be able to override the\n",
       "     default hidden behavior on the sphinx rendered scikit-learn.org.\n",
       "     See: https://github.com/scikit-learn/scikit-learn/issues/21755 */\n",
       "  display: inline-block !important;\n",
       "  position: relative;\n",
       "}\n",
       "\n",
       "#sk-container-id-1 div.sk-text-repr-fallback {\n",
       "  display: none;\n",
       "}\n",
       "\n",
       "div.sk-parallel-item,\n",
       "div.sk-serial,\n",
       "div.sk-item {\n",
       "  /* draw centered vertical line to link estimators */\n",
       "  background-image: linear-gradient(var(--sklearn-color-text-on-default-background), var(--sklearn-color-text-on-default-background));\n",
       "  background-size: 2px 100%;\n",
       "  background-repeat: no-repeat;\n",
       "  background-position: center center;\n",
       "}\n",
       "\n",
       "/* Parallel-specific style estimator block */\n",
       "\n",
       "#sk-container-id-1 div.sk-parallel-item::after {\n",
       "  content: \"\";\n",
       "  width: 100%;\n",
       "  border-bottom: 2px solid var(--sklearn-color-text-on-default-background);\n",
       "  flex-grow: 1;\n",
       "}\n",
       "\n",
       "#sk-container-id-1 div.sk-parallel {\n",
       "  display: flex;\n",
       "  align-items: stretch;\n",
       "  justify-content: center;\n",
       "  background-color: var(--sklearn-color-background);\n",
       "  position: relative;\n",
       "}\n",
       "\n",
       "#sk-container-id-1 div.sk-parallel-item {\n",
       "  display: flex;\n",
       "  flex-direction: column;\n",
       "}\n",
       "\n",
       "#sk-container-id-1 div.sk-parallel-item:first-child::after {\n",
       "  align-self: flex-end;\n",
       "  width: 50%;\n",
       "}\n",
       "\n",
       "#sk-container-id-1 div.sk-parallel-item:last-child::after {\n",
       "  align-self: flex-start;\n",
       "  width: 50%;\n",
       "}\n",
       "\n",
       "#sk-container-id-1 div.sk-parallel-item:only-child::after {\n",
       "  width: 0;\n",
       "}\n",
       "\n",
       "/* Serial-specific style estimator block */\n",
       "\n",
       "#sk-container-id-1 div.sk-serial {\n",
       "  display: flex;\n",
       "  flex-direction: column;\n",
       "  align-items: center;\n",
       "  background-color: var(--sklearn-color-background);\n",
       "  padding-right: 1em;\n",
       "  padding-left: 1em;\n",
       "}\n",
       "\n",
       "\n",
       "/* Toggleable style: style used for estimator/Pipeline/ColumnTransformer box that is\n",
       "clickable and can be expanded/collapsed.\n",
       "- Pipeline and ColumnTransformer use this feature and define the default style\n",
       "- Estimators will overwrite some part of the style using the `sk-estimator` class\n",
       "*/\n",
       "\n",
       "/* Pipeline and ColumnTransformer style (default) */\n",
       "\n",
       "#sk-container-id-1 div.sk-toggleable {\n",
       "  /* Default theme specific background. It is overwritten whether we have a\n",
       "  specific estimator or a Pipeline/ColumnTransformer */\n",
       "  background-color: var(--sklearn-color-background);\n",
       "}\n",
       "\n",
       "/* Toggleable label */\n",
       "#sk-container-id-1 label.sk-toggleable__label {\n",
       "  cursor: pointer;\n",
       "  display: block;\n",
       "  width: 100%;\n",
       "  margin-bottom: 0;\n",
       "  padding: 0.5em;\n",
       "  box-sizing: border-box;\n",
       "  text-align: center;\n",
       "}\n",
       "\n",
       "#sk-container-id-1 label.sk-toggleable__label-arrow:before {\n",
       "  /* Arrow on the left of the label */\n",
       "  content: \"▸\";\n",
       "  float: left;\n",
       "  margin-right: 0.25em;\n",
       "  color: var(--sklearn-color-icon);\n",
       "}\n",
       "\n",
       "#sk-container-id-1 label.sk-toggleable__label-arrow:hover:before {\n",
       "  color: var(--sklearn-color-text);\n",
       "}\n",
       "\n",
       "/* Toggleable content - dropdown */\n",
       "\n",
       "#sk-container-id-1 div.sk-toggleable__content {\n",
       "  max-height: 0;\n",
       "  max-width: 0;\n",
       "  overflow: hidden;\n",
       "  text-align: left;\n",
       "  /* unfitted */\n",
       "  background-color: var(--sklearn-color-unfitted-level-0);\n",
       "}\n",
       "\n",
       "#sk-container-id-1 div.sk-toggleable__content.fitted {\n",
       "  /* fitted */\n",
       "  background-color: var(--sklearn-color-fitted-level-0);\n",
       "}\n",
       "\n",
       "#sk-container-id-1 div.sk-toggleable__content pre {\n",
       "  margin: 0.2em;\n",
       "  border-radius: 0.25em;\n",
       "  color: var(--sklearn-color-text);\n",
       "  /* unfitted */\n",
       "  background-color: var(--sklearn-color-unfitted-level-0);\n",
       "}\n",
       "\n",
       "#sk-container-id-1 div.sk-toggleable__content.fitted pre {\n",
       "  /* unfitted */\n",
       "  background-color: var(--sklearn-color-fitted-level-0);\n",
       "}\n",
       "\n",
       "#sk-container-id-1 input.sk-toggleable__control:checked~div.sk-toggleable__content {\n",
       "  /* Expand drop-down */\n",
       "  max-height: 200px;\n",
       "  max-width: 100%;\n",
       "  overflow: auto;\n",
       "}\n",
       "\n",
       "#sk-container-id-1 input.sk-toggleable__control:checked~label.sk-toggleable__label-arrow:before {\n",
       "  content: \"▾\";\n",
       "}\n",
       "\n",
       "/* Pipeline/ColumnTransformer-specific style */\n",
       "\n",
       "#sk-container-id-1 div.sk-label input.sk-toggleable__control:checked~label.sk-toggleable__label {\n",
       "  color: var(--sklearn-color-text);\n",
       "  background-color: var(--sklearn-color-unfitted-level-2);\n",
       "}\n",
       "\n",
       "#sk-container-id-1 div.sk-label.fitted input.sk-toggleable__control:checked~label.sk-toggleable__label {\n",
       "  background-color: var(--sklearn-color-fitted-level-2);\n",
       "}\n",
       "\n",
       "/* Estimator-specific style */\n",
       "\n",
       "/* Colorize estimator box */\n",
       "#sk-container-id-1 div.sk-estimator input.sk-toggleable__control:checked~label.sk-toggleable__label {\n",
       "  /* unfitted */\n",
       "  background-color: var(--sklearn-color-unfitted-level-2);\n",
       "}\n",
       "\n",
       "#sk-container-id-1 div.sk-estimator.fitted input.sk-toggleable__control:checked~label.sk-toggleable__label {\n",
       "  /* fitted */\n",
       "  background-color: var(--sklearn-color-fitted-level-2);\n",
       "}\n",
       "\n",
       "#sk-container-id-1 div.sk-label label.sk-toggleable__label,\n",
       "#sk-container-id-1 div.sk-label label {\n",
       "  /* The background is the default theme color */\n",
       "  color: var(--sklearn-color-text-on-default-background);\n",
       "}\n",
       "\n",
       "/* On hover, darken the color of the background */\n",
       "#sk-container-id-1 div.sk-label:hover label.sk-toggleable__label {\n",
       "  color: var(--sklearn-color-text);\n",
       "  background-color: var(--sklearn-color-unfitted-level-2);\n",
       "}\n",
       "\n",
       "/* Label box, darken color on hover, fitted */\n",
       "#sk-container-id-1 div.sk-label.fitted:hover label.sk-toggleable__label.fitted {\n",
       "  color: var(--sklearn-color-text);\n",
       "  background-color: var(--sklearn-color-fitted-level-2);\n",
       "}\n",
       "\n",
       "/* Estimator label */\n",
       "\n",
       "#sk-container-id-1 div.sk-label label {\n",
       "  font-family: monospace;\n",
       "  font-weight: bold;\n",
       "  display: inline-block;\n",
       "  line-height: 1.2em;\n",
       "}\n",
       "\n",
       "#sk-container-id-1 div.sk-label-container {\n",
       "  text-align: center;\n",
       "}\n",
       "\n",
       "/* Estimator-specific */\n",
       "#sk-container-id-1 div.sk-estimator {\n",
       "  font-family: monospace;\n",
       "  border: 1px dotted var(--sklearn-color-border-box);\n",
       "  border-radius: 0.25em;\n",
       "  box-sizing: border-box;\n",
       "  margin-bottom: 0.5em;\n",
       "  /* unfitted */\n",
       "  background-color: var(--sklearn-color-unfitted-level-0);\n",
       "}\n",
       "\n",
       "#sk-container-id-1 div.sk-estimator.fitted {\n",
       "  /* fitted */\n",
       "  background-color: var(--sklearn-color-fitted-level-0);\n",
       "}\n",
       "\n",
       "/* on hover */\n",
       "#sk-container-id-1 div.sk-estimator:hover {\n",
       "  /* unfitted */\n",
       "  background-color: var(--sklearn-color-unfitted-level-2);\n",
       "}\n",
       "\n",
       "#sk-container-id-1 div.sk-estimator.fitted:hover {\n",
       "  /* fitted */\n",
       "  background-color: var(--sklearn-color-fitted-level-2);\n",
       "}\n",
       "\n",
       "/* Specification for estimator info (e.g. \"i\" and \"?\") */\n",
       "\n",
       "/* Common style for \"i\" and \"?\" */\n",
       "\n",
       ".sk-estimator-doc-link,\n",
       "a:link.sk-estimator-doc-link,\n",
       "a:visited.sk-estimator-doc-link {\n",
       "  float: right;\n",
       "  font-size: smaller;\n",
       "  line-height: 1em;\n",
       "  font-family: monospace;\n",
       "  background-color: var(--sklearn-color-background);\n",
       "  border-radius: 1em;\n",
       "  height: 1em;\n",
       "  width: 1em;\n",
       "  text-decoration: none !important;\n",
       "  margin-left: 1ex;\n",
       "  /* unfitted */\n",
       "  border: var(--sklearn-color-unfitted-level-1) 1pt solid;\n",
       "  color: var(--sklearn-color-unfitted-level-1);\n",
       "}\n",
       "\n",
       ".sk-estimator-doc-link.fitted,\n",
       "a:link.sk-estimator-doc-link.fitted,\n",
       "a:visited.sk-estimator-doc-link.fitted {\n",
       "  /* fitted */\n",
       "  border: var(--sklearn-color-fitted-level-1) 1pt solid;\n",
       "  color: var(--sklearn-color-fitted-level-1);\n",
       "}\n",
       "\n",
       "/* On hover */\n",
       "div.sk-estimator:hover .sk-estimator-doc-link:hover,\n",
       ".sk-estimator-doc-link:hover,\n",
       "div.sk-label-container:hover .sk-estimator-doc-link:hover,\n",
       ".sk-estimator-doc-link:hover {\n",
       "  /* unfitted */\n",
       "  background-color: var(--sklearn-color-unfitted-level-3);\n",
       "  color: var(--sklearn-color-background);\n",
       "  text-decoration: none;\n",
       "}\n",
       "\n",
       "div.sk-estimator.fitted:hover .sk-estimator-doc-link.fitted:hover,\n",
       ".sk-estimator-doc-link.fitted:hover,\n",
       "div.sk-label-container:hover .sk-estimator-doc-link.fitted:hover,\n",
       ".sk-estimator-doc-link.fitted:hover {\n",
       "  /* fitted */\n",
       "  background-color: var(--sklearn-color-fitted-level-3);\n",
       "  color: var(--sklearn-color-background);\n",
       "  text-decoration: none;\n",
       "}\n",
       "\n",
       "/* Span, style for the box shown on hovering the info icon */\n",
       ".sk-estimator-doc-link span {\n",
       "  display: none;\n",
       "  z-index: 9999;\n",
       "  position: relative;\n",
       "  font-weight: normal;\n",
       "  right: .2ex;\n",
       "  padding: .5ex;\n",
       "  margin: .5ex;\n",
       "  width: min-content;\n",
       "  min-width: 20ex;\n",
       "  max-width: 50ex;\n",
       "  color: var(--sklearn-color-text);\n",
       "  box-shadow: 2pt 2pt 4pt #999;\n",
       "  /* unfitted */\n",
       "  background: var(--sklearn-color-unfitted-level-0);\n",
       "  border: .5pt solid var(--sklearn-color-unfitted-level-3);\n",
       "}\n",
       "\n",
       ".sk-estimator-doc-link.fitted span {\n",
       "  /* fitted */\n",
       "  background: var(--sklearn-color-fitted-level-0);\n",
       "  border: var(--sklearn-color-fitted-level-3);\n",
       "}\n",
       "\n",
       ".sk-estimator-doc-link:hover span {\n",
       "  display: block;\n",
       "}\n",
       "\n",
       "/* \"?\"-specific style due to the `<a>` HTML tag */\n",
       "\n",
       "#sk-container-id-1 a.estimator_doc_link {\n",
       "  float: right;\n",
       "  font-size: 1rem;\n",
       "  line-height: 1em;\n",
       "  font-family: monospace;\n",
       "  background-color: var(--sklearn-color-background);\n",
       "  border-radius: 1rem;\n",
       "  height: 1rem;\n",
       "  width: 1rem;\n",
       "  text-decoration: none;\n",
       "  /* unfitted */\n",
       "  color: var(--sklearn-color-unfitted-level-1);\n",
       "  border: var(--sklearn-color-unfitted-level-1) 1pt solid;\n",
       "}\n",
       "\n",
       "#sk-container-id-1 a.estimator_doc_link.fitted {\n",
       "  /* fitted */\n",
       "  border: var(--sklearn-color-fitted-level-1) 1pt solid;\n",
       "  color: var(--sklearn-color-fitted-level-1);\n",
       "}\n",
       "\n",
       "/* On hover */\n",
       "#sk-container-id-1 a.estimator_doc_link:hover {\n",
       "  /* unfitted */\n",
       "  background-color: var(--sklearn-color-unfitted-level-3);\n",
       "  color: var(--sklearn-color-background);\n",
       "  text-decoration: none;\n",
       "}\n",
       "\n",
       "#sk-container-id-1 a.estimator_doc_link.fitted:hover {\n",
       "  /* fitted */\n",
       "  background-color: var(--sklearn-color-fitted-level-3);\n",
       "}\n",
       "</style><div id=\"sk-container-id-1\" class=\"sk-top-container\"><div class=\"sk-text-repr-fallback\"><pre>Pipeline(steps=[(&#x27;preprocessor&#x27;,\n",
       "                 ColumnTransformer(transformers=[(&#x27;onehot&#x27;, OneHotEncoder(),\n",
       "                                                  Index([&#x27;Industry&#x27;, &#x27;Ethnicity&#x27;, &#x27;Gender&#x27;, &#x27;CivilStatus&#x27;], dtype=&#x27;object&#x27;)),\n",
       "                                                 (&#x27;scaler&#x27;, MinMaxScaler(),\n",
       "                                                  Index([&#x27;Age&#x27;, &#x27;YearsEmployed&#x27;, &#x27;Income&#x27;], dtype=&#x27;object&#x27;))])),\n",
       "                (&#x27;model&#x27;,\n",
       "                 GridSearchCV(estimator=GradientBoostingClassifier(),\n",
       "                              param_grid={&#x27;learning_rate&#x27;: [0.001, 0.01, 0.1,\n",
       "                                                            1],\n",
       "                                          &#x27;loss&#x27;: [&#x27;log_loss&#x27;, &#x27;exponential&#x27;],\n",
       "                                          &#x27;max_depth&#x27;: [5, 7, 9, 11],\n",
       "                                          &#x27;n_estimators&#x27;: [50, 100, 200]}))])</pre><b>In a Jupyter environment, please rerun this cell to show the HTML representation or trust the notebook. <br />On GitHub, the HTML representation is unable to render, please try loading this page with nbviewer.org.</b></div><div class=\"sk-container\" hidden><div class=\"sk-item sk-dashed-wrapped\"><div class=\"sk-label-container\"><div class=\"sk-label fitted sk-toggleable\"><input class=\"sk-toggleable__control sk-hidden--visually\" id=\"sk-estimator-id-1\" type=\"checkbox\" ><label for=\"sk-estimator-id-1\" class=\"sk-toggleable__label fitted sk-toggleable__label-arrow fitted\">&nbsp;&nbsp;Pipeline<a class=\"sk-estimator-doc-link fitted\" rel=\"noreferrer\" target=\"_blank\" href=\"https://scikit-learn.org/1.5/modules/generated/sklearn.pipeline.Pipeline.html\">?<span>Documentation for Pipeline</span></a><span class=\"sk-estimator-doc-link fitted\">i<span>Fitted</span></span></label><div class=\"sk-toggleable__content fitted\"><pre>Pipeline(steps=[(&#x27;preprocessor&#x27;,\n",
       "                 ColumnTransformer(transformers=[(&#x27;onehot&#x27;, OneHotEncoder(),\n",
       "                                                  Index([&#x27;Industry&#x27;, &#x27;Ethnicity&#x27;, &#x27;Gender&#x27;, &#x27;CivilStatus&#x27;], dtype=&#x27;object&#x27;)),\n",
       "                                                 (&#x27;scaler&#x27;, MinMaxScaler(),\n",
       "                                                  Index([&#x27;Age&#x27;, &#x27;YearsEmployed&#x27;, &#x27;Income&#x27;], dtype=&#x27;object&#x27;))])),\n",
       "                (&#x27;model&#x27;,\n",
       "                 GridSearchCV(estimator=GradientBoostingClassifier(),\n",
       "                              param_grid={&#x27;learning_rate&#x27;: [0.001, 0.01, 0.1,\n",
       "                                                            1],\n",
       "                                          &#x27;loss&#x27;: [&#x27;log_loss&#x27;, &#x27;exponential&#x27;],\n",
       "                                          &#x27;max_depth&#x27;: [5, 7, 9, 11],\n",
       "                                          &#x27;n_estimators&#x27;: [50, 100, 200]}))])</pre></div> </div></div><div class=\"sk-serial\"><div class=\"sk-item sk-dashed-wrapped\"><div class=\"sk-label-container\"><div class=\"sk-label fitted sk-toggleable\"><input class=\"sk-toggleable__control sk-hidden--visually\" id=\"sk-estimator-id-2\" type=\"checkbox\" ><label for=\"sk-estimator-id-2\" class=\"sk-toggleable__label fitted sk-toggleable__label-arrow fitted\">&nbsp;preprocessor: ColumnTransformer<a class=\"sk-estimator-doc-link fitted\" rel=\"noreferrer\" target=\"_blank\" href=\"https://scikit-learn.org/1.5/modules/generated/sklearn.compose.ColumnTransformer.html\">?<span>Documentation for preprocessor: ColumnTransformer</span></a></label><div class=\"sk-toggleable__content fitted\"><pre>ColumnTransformer(transformers=[(&#x27;onehot&#x27;, OneHotEncoder(),\n",
       "                                 Index([&#x27;Industry&#x27;, &#x27;Ethnicity&#x27;, &#x27;Gender&#x27;, &#x27;CivilStatus&#x27;], dtype=&#x27;object&#x27;)),\n",
       "                                (&#x27;scaler&#x27;, MinMaxScaler(),\n",
       "                                 Index([&#x27;Age&#x27;, &#x27;YearsEmployed&#x27;, &#x27;Income&#x27;], dtype=&#x27;object&#x27;))])</pre></div> </div></div><div class=\"sk-parallel\"><div class=\"sk-parallel-item\"><div class=\"sk-item\"><div class=\"sk-label-container\"><div class=\"sk-label fitted sk-toggleable\"><input class=\"sk-toggleable__control sk-hidden--visually\" id=\"sk-estimator-id-3\" type=\"checkbox\" ><label for=\"sk-estimator-id-3\" class=\"sk-toggleable__label fitted sk-toggleable__label-arrow fitted\">onehot</label><div class=\"sk-toggleable__content fitted\"><pre>Index([&#x27;Industry&#x27;, &#x27;Ethnicity&#x27;, &#x27;Gender&#x27;, &#x27;CivilStatus&#x27;], dtype=&#x27;object&#x27;)</pre></div> </div></div><div class=\"sk-serial\"><div class=\"sk-item\"><div class=\"sk-estimator fitted sk-toggleable\"><input class=\"sk-toggleable__control sk-hidden--visually\" id=\"sk-estimator-id-4\" type=\"checkbox\" ><label for=\"sk-estimator-id-4\" class=\"sk-toggleable__label fitted sk-toggleable__label-arrow fitted\">&nbsp;OneHotEncoder<a class=\"sk-estimator-doc-link fitted\" rel=\"noreferrer\" target=\"_blank\" href=\"https://scikit-learn.org/1.5/modules/generated/sklearn.preprocessing.OneHotEncoder.html\">?<span>Documentation for OneHotEncoder</span></a></label><div class=\"sk-toggleable__content fitted\"><pre>OneHotEncoder()</pre></div> </div></div></div></div></div><div class=\"sk-parallel-item\"><div class=\"sk-item\"><div class=\"sk-label-container\"><div class=\"sk-label fitted sk-toggleable\"><input class=\"sk-toggleable__control sk-hidden--visually\" id=\"sk-estimator-id-5\" type=\"checkbox\" ><label for=\"sk-estimator-id-5\" class=\"sk-toggleable__label fitted sk-toggleable__label-arrow fitted\">scaler</label><div class=\"sk-toggleable__content fitted\"><pre>Index([&#x27;Age&#x27;, &#x27;YearsEmployed&#x27;, &#x27;Income&#x27;], dtype=&#x27;object&#x27;)</pre></div> </div></div><div class=\"sk-serial\"><div class=\"sk-item\"><div class=\"sk-estimator fitted sk-toggleable\"><input class=\"sk-toggleable__control sk-hidden--visually\" id=\"sk-estimator-id-6\" type=\"checkbox\" ><label for=\"sk-estimator-id-6\" class=\"sk-toggleable__label fitted sk-toggleable__label-arrow fitted\">&nbsp;MinMaxScaler<a class=\"sk-estimator-doc-link fitted\" rel=\"noreferrer\" target=\"_blank\" href=\"https://scikit-learn.org/1.5/modules/generated/sklearn.preprocessing.MinMaxScaler.html\">?<span>Documentation for MinMaxScaler</span></a></label><div class=\"sk-toggleable__content fitted\"><pre>MinMaxScaler()</pre></div> </div></div></div></div></div></div></div><div class=\"sk-item sk-dashed-wrapped\"><div class=\"sk-label-container\"><div class=\"sk-label fitted sk-toggleable\"><input class=\"sk-toggleable__control sk-hidden--visually\" id=\"sk-estimator-id-7\" type=\"checkbox\" ><label for=\"sk-estimator-id-7\" class=\"sk-toggleable__label fitted sk-toggleable__label-arrow fitted\">&nbsp;model: GridSearchCV<a class=\"sk-estimator-doc-link fitted\" rel=\"noreferrer\" target=\"_blank\" href=\"https://scikit-learn.org/1.5/modules/generated/sklearn.model_selection.GridSearchCV.html\">?<span>Documentation for model: GridSearchCV</span></a></label><div class=\"sk-toggleable__content fitted\"><pre>GridSearchCV(estimator=GradientBoostingClassifier(),\n",
       "             param_grid={&#x27;learning_rate&#x27;: [0.001, 0.01, 0.1, 1],\n",
       "                         &#x27;loss&#x27;: [&#x27;log_loss&#x27;, &#x27;exponential&#x27;],\n",
       "                         &#x27;max_depth&#x27;: [5, 7, 9, 11],\n",
       "                         &#x27;n_estimators&#x27;: [50, 100, 200]})</pre></div> </div></div><div class=\"sk-parallel\"><div class=\"sk-parallel-item\"><div class=\"sk-item\"><div class=\"sk-label-container\"><div class=\"sk-label fitted sk-toggleable\"><input class=\"sk-toggleable__control sk-hidden--visually\" id=\"sk-estimator-id-8\" type=\"checkbox\" ><label for=\"sk-estimator-id-8\" class=\"sk-toggleable__label fitted sk-toggleable__label-arrow fitted\">best_estimator_: GradientBoostingClassifier</label><div class=\"sk-toggleable__content fitted\"><pre>GradientBoostingClassifier(learning_rate=0.01, loss=&#x27;exponential&#x27;, max_depth=5,\n",
       "                           n_estimators=50)</pre></div> </div></div><div class=\"sk-serial\"><div class=\"sk-item\"><div class=\"sk-estimator fitted sk-toggleable\"><input class=\"sk-toggleable__control sk-hidden--visually\" id=\"sk-estimator-id-9\" type=\"checkbox\" ><label for=\"sk-estimator-id-9\" class=\"sk-toggleable__label fitted sk-toggleable__label-arrow fitted\">&nbsp;GradientBoostingClassifier<a class=\"sk-estimator-doc-link fitted\" rel=\"noreferrer\" target=\"_blank\" href=\"https://scikit-learn.org/1.5/modules/generated/sklearn.ensemble.GradientBoostingClassifier.html\">?<span>Documentation for GradientBoostingClassifier</span></a></label><div class=\"sk-toggleable__content fitted\"><pre>GradientBoostingClassifier(learning_rate=0.01, loss=&#x27;exponential&#x27;, max_depth=5,\n",
       "                           n_estimators=50)</pre></div> </div></div></div></div></div></div></div></div></div></div></div>"
      ],
      "text/plain": [
       "Pipeline(steps=[('preprocessor',\n",
       "                 ColumnTransformer(transformers=[('onehot', OneHotEncoder(),\n",
       "                                                  Index(['Industry', 'Ethnicity', 'Gender', 'CivilStatus'], dtype='object')),\n",
       "                                                 ('scaler', MinMaxScaler(),\n",
       "                                                  Index(['Age', 'YearsEmployed', 'Income'], dtype='object'))])),\n",
       "                ('model',\n",
       "                 GridSearchCV(estimator=GradientBoostingClassifier(),\n",
       "                              param_grid={'learning_rate': [0.001, 0.01, 0.1,\n",
       "                                                            1],\n",
       "                                          'loss': ['log_loss', 'exponential'],\n",
       "                                          'max_depth': [5, 7, 9, 11],\n",
       "                                          'n_estimators': [50, 100, 200]}))])"
      ]
     },
     "execution_count": 3,
     "metadata": {},
     "output_type": "execute_result"
    }
   ],
   "source": [
    "pipeline"
   ]
  },
  {
   "cell_type": "code",
   "execution_count": 4,
   "id": "36064a3f",
   "metadata": {
    "execution": {
     "iopub.execute_input": "2024-06-05T07:53:05.127753Z",
     "iopub.status.busy": "2024-06-05T07:53:05.127570Z",
     "iopub.status.idle": "2024-06-05T07:53:05.129389Z",
     "shell.execute_reply": "2024-06-05T07:53:05.129133Z"
    },
    "papermill": {
     "duration": 0.004026,
     "end_time": "2024-06-05T07:53:05.130147",
     "exception": false,
     "start_time": "2024-06-05T07:53:05.126121",
     "status": "completed"
    },
    "tags": []
   },
   "outputs": [],
   "source": [
    "processor = pipeline.steps[0][1]\n",
    "encoder = processor.transformers_[0][1]\n",
    "\n",
    "feature_names = encoder.feature_names_in_\n",
    "feature_categories = encoder.categories_"
   ]
  },
  {
   "cell_type": "code",
   "execution_count": 5,
   "id": "5b7e51e2",
   "metadata": {
    "execution": {
     "iopub.execute_input": "2024-06-05T07:53:05.133071Z",
     "iopub.status.busy": "2024-06-05T07:53:05.132968Z",
     "iopub.status.idle": "2024-06-05T07:53:05.134922Z",
     "shell.execute_reply": "2024-06-05T07:53:05.134734Z"
    },
    "papermill": {
     "duration": 0.004352,
     "end_time": "2024-06-05T07:53:05.135649",
     "exception": false,
     "start_time": "2024-06-05T07:53:05.131297",
     "status": "completed"
    },
    "tags": []
   },
   "outputs": [
    {
     "data": {
      "text/plain": [
       "array(['Industry', 'Ethnicity', 'Gender', 'CivilStatus'], dtype=object)"
      ]
     },
     "execution_count": 5,
     "metadata": {},
     "output_type": "execute_result"
    }
   ],
   "source": [
    "feature_names"
   ]
  },
  {
   "cell_type": "code",
   "execution_count": 6,
   "id": "efca8cf1",
   "metadata": {
    "execution": {
     "iopub.execute_input": "2024-06-05T07:53:05.138247Z",
     "iopub.status.busy": "2024-06-05T07:53:05.138165Z",
     "iopub.status.idle": "2024-06-05T07:53:05.139997Z",
     "shell.execute_reply": "2024-06-05T07:53:05.139816Z"
    },
    "papermill": {
     "duration": 0.003914,
     "end_time": "2024-06-05T07:53:05.140652",
     "exception": false,
     "start_time": "2024-06-05T07:53:05.136738",
     "status": "completed"
    },
    "tags": []
   },
   "outputs": [
    {
     "data": {
      "text/plain": [
       "[array(['CommunicationServices', 'ConsumerDiscretionary',\n",
       "        'ConsumerStaples', 'Education', 'Energy', 'Financials',\n",
       "        'Healthcare', 'Industrials', 'InformationTechnology', 'Materials',\n",
       "        'Real Estate', 'Research', 'Transport', 'Utilities'], dtype=object),\n",
       " array(['Asian', 'Black', 'Latino', 'Other', 'White'], dtype=object),\n",
       " array(['Female', 'Male'], dtype=object),\n",
       " array(['Married', 'Other'], dtype=object)]"
      ]
     },
     "execution_count": 6,
     "metadata": {},
     "output_type": "execute_result"
    }
   ],
   "source": [
    "feature_categories"
   ]
  },
  {
   "cell_type": "code",
   "execution_count": 7,
   "id": "08b47251",
   "metadata": {
    "execution": {
     "iopub.execute_input": "2024-06-05T07:53:05.143455Z",
     "iopub.status.busy": "2024-06-05T07:53:05.143373Z",
     "iopub.status.idle": "2024-06-05T07:53:05.145462Z",
     "shell.execute_reply": "2024-06-05T07:53:05.145234Z"
    },
    "papermill": {
     "duration": 0.004362,
     "end_time": "2024-06-05T07:53:05.146236",
     "exception": false,
     "start_time": "2024-06-05T07:53:05.141874",
     "status": "completed"
    },
    "tags": []
   },
   "outputs": [
    {
     "data": {
      "text/plain": [
       "{'Industry': ['CommunicationServices',\n",
       "  'ConsumerDiscretionary',\n",
       "  'ConsumerStaples',\n",
       "  'Education',\n",
       "  'Energy',\n",
       "  'Financials',\n",
       "  'Healthcare',\n",
       "  'Industrials',\n",
       "  'InformationTechnology',\n",
       "  'Materials',\n",
       "  'Real Estate',\n",
       "  'Research',\n",
       "  'Transport',\n",
       "  'Utilities'],\n",
       " 'Ethnicity': ['Asian', 'Black', 'Latino', 'Other', 'White'],\n",
       " 'Gender': ['Female', 'Male'],\n",
       " 'CivilStatus': ['Married', 'Other']}"
      ]
     },
     "execution_count": 7,
     "metadata": {},
     "output_type": "execute_result"
    }
   ],
   "source": [
    "options = {}\n",
    "for feature, categories in zip(feature_names, feature_categories):\n",
    "    options[feature] = categories.tolist()\n",
    "\n",
    "options"
   ]
  },
  {
   "attachments": {},
   "cell_type": "markdown",
   "id": "c57eb46b",
   "metadata": {
    "papermill": {
     "duration": 0.0012,
     "end_time": "2024-06-05T07:53:05.148814",
     "exception": false,
     "start_time": "2024-06-05T07:53:05.147614",
     "status": "completed"
    },
    "tags": []
   },
   "source": [
    "### Export options to file"
   ]
  },
  {
   "cell_type": "code",
   "execution_count": 8,
   "id": "55f891ff",
   "metadata": {
    "execution": {
     "iopub.execute_input": "2024-06-05T07:53:05.152382Z",
     "iopub.status.busy": "2024-06-05T07:53:05.152286Z",
     "iopub.status.idle": "2024-06-05T07:53:05.154049Z",
     "shell.execute_reply": "2024-06-05T07:53:05.153859Z"
    },
    "papermill": {
     "duration": 0.004756,
     "end_time": "2024-06-05T07:53:05.154729",
     "exception": false,
     "start_time": "2024-06-05T07:53:05.149973",
     "status": "completed"
    },
    "tags": []
   },
   "outputs": [],
   "source": [
    "import json\n",
    "\n",
    "with open('../src/options_categorical.json', 'w') as file:\n",
    "    json.dump(options, file, indent=4)"
   ]
  },
  {
   "cell_type": "markdown",
   "id": "5df91767",
   "metadata": {
    "papermill": {
     "duration": 0.001272,
     "end_time": "2024-06-05T07:53:05.157210",
     "exception": false,
     "start_time": "2024-06-05T07:53:05.155938",
     "status": "completed"
    },
    "tags": []
   },
   "source": [
    "## Estructure numerical data options"
   ]
  },
  {
   "cell_type": "markdown",
   "id": "d0dee132",
   "metadata": {
    "papermill": {
     "duration": 0.001143,
     "end_time": "2024-06-05T07:53:05.159472",
     "exception": false,
     "start_time": "2024-06-05T07:53:05.158329",
     "status": "completed"
    },
    "tags": []
   },
   "source": [
    "### Feature names"
   ]
  },
  {
   "cell_type": "code",
   "execution_count": 9,
   "id": "1a8c03ef",
   "metadata": {
    "execution": {
     "iopub.execute_input": "2024-06-05T07:53:05.162579Z",
     "iopub.status.busy": "2024-06-05T07:53:05.162483Z",
     "iopub.status.idle": "2024-06-05T07:53:05.164708Z",
     "shell.execute_reply": "2024-06-05T07:53:05.164469Z"
    },
    "papermill": {
     "duration": 0.004998,
     "end_time": "2024-06-05T07:53:05.165724",
     "exception": false,
     "start_time": "2024-06-05T07:53:05.160726",
     "status": "completed"
    },
    "tags": []
   },
   "outputs": [
    {
     "data": {
      "text/plain": [
       "['Age', 'YearsEmployed', 'Income']"
      ]
     },
     "execution_count": 9,
     "metadata": {},
     "output_type": "execute_result"
    }
   ],
   "source": [
    "processor = pipeline.steps[0][1]\n",
    "encoder = processor.transformers_[1][1]\n",
    "\n",
    "feature_names = encoder.feature_names_in_.tolist()\n",
    "feature_names"
   ]
  },
  {
   "cell_type": "markdown",
   "id": "fbb9a405",
   "metadata": {
    "papermill": {
     "duration": 0.001406,
     "end_time": "2024-06-05T07:53:05.168773",
     "exception": false,
     "start_time": "2024-06-05T07:53:05.167367",
     "status": "completed"
    },
    "tags": []
   },
   "source": [
    "### Average value by default"
   ]
  },
  {
   "cell_type": "code",
   "execution_count": 10,
   "id": "39e8d7cf",
   "metadata": {
    "execution": {
     "iopub.execute_input": "2024-06-05T07:53:05.172324Z",
     "iopub.status.busy": "2024-06-05T07:53:05.172204Z",
     "iopub.status.idle": "2024-06-05T07:53:05.178312Z",
     "shell.execute_reply": "2024-06-05T07:53:05.178067Z"
    },
    "papermill": {
     "duration": 0.008896,
     "end_time": "2024-06-05T07:53:05.179141",
     "exception": false,
     "start_time": "2024-06-05T07:53:05.170245",
     "status": "completed"
    },
    "tags": []
   },
   "outputs": [
    {
     "data": {
      "text/html": [
       "<div>\n",
       "<style scoped>\n",
       "    .dataframe tbody tr th:only-of-type {\n",
       "        vertical-align: middle;\n",
       "    }\n",
       "\n",
       "    .dataframe tbody tr th {\n",
       "        vertical-align: top;\n",
       "    }\n",
       "\n",
       "    .dataframe thead th {\n",
       "        text-align: right;\n",
       "    }\n",
       "</style>\n",
       "<table border=\"1\" class=\"dataframe\">\n",
       "  <thead>\n",
       "    <tr style=\"text-align: right;\">\n",
       "      <th></th>\n",
       "      <th>Industry</th>\n",
       "      <th>Ethnicity</th>\n",
       "      <th>Gender</th>\n",
       "      <th>Age</th>\n",
       "      <th>CivilStatus</th>\n",
       "      <th>YearsEmployed</th>\n",
       "      <th>Income</th>\n",
       "      <th>Approved</th>\n",
       "    </tr>\n",
       "  </thead>\n",
       "  <tbody>\n",
       "    <tr>\n",
       "      <th>0</th>\n",
       "      <td>Industrials</td>\n",
       "      <td>White</td>\n",
       "      <td>Male</td>\n",
       "      <td>30</td>\n",
       "      <td>Married</td>\n",
       "      <td>1.25</td>\n",
       "      <td>0</td>\n",
       "      <td>1</td>\n",
       "    </tr>\n",
       "    <tr>\n",
       "      <th>1</th>\n",
       "      <td>Materials</td>\n",
       "      <td>Black</td>\n",
       "      <td>Female</td>\n",
       "      <td>58</td>\n",
       "      <td>Married</td>\n",
       "      <td>3.04</td>\n",
       "      <td>560</td>\n",
       "      <td>1</td>\n",
       "    </tr>\n",
       "    <tr>\n",
       "      <th>...</th>\n",
       "      <td>...</td>\n",
       "      <td>...</td>\n",
       "      <td>...</td>\n",
       "      <td>...</td>\n",
       "      <td>...</td>\n",
       "      <td>...</td>\n",
       "      <td>...</td>\n",
       "      <td>...</td>\n",
       "    </tr>\n",
       "    <tr>\n",
       "      <th>688</th>\n",
       "      <td>ConsumerStaples</td>\n",
       "      <td>White</td>\n",
       "      <td>Male</td>\n",
       "      <td>17</td>\n",
       "      <td>Married</td>\n",
       "      <td>0.04</td>\n",
       "      <td>750</td>\n",
       "      <td>0</td>\n",
       "    </tr>\n",
       "    <tr>\n",
       "      <th>689</th>\n",
       "      <td>Energy</td>\n",
       "      <td>Black</td>\n",
       "      <td>Male</td>\n",
       "      <td>35</td>\n",
       "      <td>Married</td>\n",
       "      <td>8.29</td>\n",
       "      <td>0</td>\n",
       "      <td>0</td>\n",
       "    </tr>\n",
       "  </tbody>\n",
       "</table>\n",
       "<p>690 rows × 8 columns</p>\n",
       "</div>"
      ],
      "text/plain": [
       "            Industry Ethnicity  Gender  Age CivilStatus  YearsEmployed  \\\n",
       "0        Industrials     White    Male   30     Married           1.25   \n",
       "1          Materials     Black  Female   58     Married           3.04   \n",
       "..               ...       ...     ...  ...         ...            ...   \n",
       "688  ConsumerStaples     White    Male   17     Married           0.04   \n",
       "689           Energy     Black    Male   35     Married           8.29   \n",
       "\n",
       "     Income  Approved  \n",
       "0         0         1  \n",
       "1       560         1  \n",
       "..      ...       ...  \n",
       "688     750         0  \n",
       "689       0         0  \n",
       "\n",
       "[690 rows x 8 columns]"
      ]
     },
     "execution_count": 10,
     "metadata": {},
     "output_type": "execute_result"
    }
   ],
   "source": [
    "import pandas as pd\n",
    "\n",
    "df = pd.read_csv('../../../data/credit-approval.csv')\n",
    "df"
   ]
  },
  {
   "cell_type": "code",
   "execution_count": 16,
   "id": "2e638d73",
   "metadata": {},
   "outputs": [],
   "source": [
    "options = df[feature_names].mean().astype(int).to_dict()"
   ]
  },
  {
   "cell_type": "markdown",
   "id": "8566b15d",
   "metadata": {
    "papermill": {
     "duration": 0.001558,
     "end_time": "2024-06-05T07:53:05.188390",
     "exception": false,
     "start_time": "2024-06-05T07:53:05.186832",
     "status": "completed"
    },
    "tags": []
   },
   "source": [
    "### Export options to file"
   ]
  },
  {
   "cell_type": "code",
   "execution_count": 17,
   "id": "33c0e593",
   "metadata": {
    "execution": {
     "iopub.execute_input": "2024-06-05T07:53:05.191948Z",
     "iopub.status.busy": "2024-06-05T07:53:05.191826Z",
     "iopub.status.idle": "2024-06-05T07:53:05.193874Z",
     "shell.execute_reply": "2024-06-05T07:53:05.193616Z"
    },
    "papermill": {
     "duration": 0.004672,
     "end_time": "2024-06-05T07:53:05.194669",
     "exception": false,
     "start_time": "2024-06-05T07:53:05.189997",
     "status": "completed"
    },
    "tags": []
   },
   "outputs": [],
   "source": [
    "import json\n",
    "\n",
    "with open('../src/options_numerical.json', 'w') as file:\n",
    "    json.dump(options, file, indent=4)"
   ]
  }
 ],
 "metadata": {
  "kernelspec": {
   "display_name": "work",
   "language": "python",
   "name": "python3"
  },
  "language_info": {
   "codemirror_mode": {
    "name": "ipython",
    "version": 3
   },
   "file_extension": ".py",
   "mimetype": "text/x-python",
   "name": "python",
   "nbconvert_exporter": "python",
   "pygments_lexer": "ipython3",
   "version": "3.11.4"
  },
  "papermill": {
   "default_parameters": {},
   "duration": 1.418117,
   "end_time": "2024-06-05T07:53:05.413059",
   "environment_variables": {},
   "exception": null,
   "input_path": "/Users/sota/Library/CloudStorage/Dropbox/2 Business/1 Datons/2 Areas/Courses/2 Catalogue/20 ML/1 Materials/ML-P/notebooks/30_Pipeline/3_Frontend I/B.ipynb",
   "output_path": "/Users/sota/Library/CloudStorage/Dropbox/2 Business/1 Datons/2 Areas/Courses/2 Catalogue/20 ML/1 Materials/ML-P/notebooks/30_Pipeline/3_Frontend I/B.ipynb",
   "parameters": {},
   "start_time": "2024-06-05T07:53:03.994942",
   "version": "2.5.0"
  }
 },
 "nbformat": 4,
 "nbformat_minor": 5
}
